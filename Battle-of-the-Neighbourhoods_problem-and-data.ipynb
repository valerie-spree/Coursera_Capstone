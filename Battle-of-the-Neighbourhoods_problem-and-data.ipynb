{
 "cells": [
  {
   "cell_type": "markdown",
   "metadata": {},
   "source": [
    "<h1>Battle of the Neighbourhoods - Part 1: Problem and Data</h1>\n",
    "    \n",
    "<h2>Description of the problem and a discussion of the background</h2>\n",
    "\n",
    "During my master's degree I went on exchange to Vienna and had to look for an apartment. My criteria were that it should not be too expensive, that it was located in a convenient area with respect to my university and that the neighbourhood should have some restaurants and other commercial venues.\n",
    "\n",
    "Not only people like me will encounter this problem. Vienna is a very attractive cities and has been scored as the most liveable city in the world by The Economist. Living costs are not too high compared to other European capitals, crime rates are extremely low, there are a lot of cultural and historical venues and activities to explore, public transport is relatively cheap (compared to other European capitals), and there are plenty of job opportunities. Hence, many more people who are attracted to this city because of the aforementioned reasons will be faced with the same problem: **where to find a place to rent in this beautiful city?**\n",
    "\n",
    "It is always quite a challenge to find a place to live when you have no idea about a city's neighbourhoods. It is it not only difficult to gage which neighbourhood is the nicest in a new city, but rent prices also need to be taken into account. Therefore, this project will aim to help people who are looking for a place to rent in Vienna by taking into consideration:\n",
    "\n",
    "- Average rent prices per district\n",
    "- Type of venues in the district - allowing the distinction between more residential and more commercial districts\n",
    "\n",
    "Furthermore, it will also help people who already live in Vienna to compare the rent they are paying to the average of their district, as well as other districts, and they will be able to compare the type of district they live in to that of others.\n",
    "    \n",
    "<h2>Description of the data and how it will be used to solve the problem</h2>\n",
    "    \n",
    "The data that will be used for this project will be as follows:\n",
    "\n",
    "- Data about apartments: scraped off an Austrian rental webiste called called Willhaben (including size, average rent, location and number of rooms)\n",
    "- Geographical data: using geopy the coordinates for each district will be found\n",
    "- Venue data: Foursquare will be sued to collect data bout the venues in each district\n",
    "\n",
    "After the data is collected a k-means clustering method will be used to cluster the disctricts into residential and commercial and visualise this data on a map."
   ]
  },
  {
   "cell_type": "code",
   "execution_count": null,
   "metadata": {},
   "outputs": [],
   "source": []
  }
 ],
 "metadata": {
  "kernelspec": {
   "display_name": "Python 3",
   "language": "python",
   "name": "python3"
  },
  "language_info": {
   "codemirror_mode": {
    "name": "ipython",
    "version": 3
   },
   "file_extension": ".py",
   "mimetype": "text/x-python",
   "name": "python",
   "nbconvert_exporter": "python",
   "pygments_lexer": "ipython3",
   "version": "3.7.9"
  }
 },
 "nbformat": 4,
 "nbformat_minor": 4
}
